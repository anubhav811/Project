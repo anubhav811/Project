{
 "cells": [
  {
   "cell_type": "markdown",
   "metadata": {},
   "source": [
    "# APPROACH 1 Code :  Optimizing Random Forest Model using Hypertuning and selecting the best model based on the lowest cross-validated RMSE"
   ]
  },
  {
   "cell_type": "markdown",
   "metadata": {},
   "source": [
    "### Step 1: Data Preparation"
   ]
  },
  {
   "cell_type": "code",
   "execution_count": 2,
   "metadata": {},
   "outputs": [],
   "source": [
    "import pandas as pd\n",
    "import numpy as np\n",
    "from sklearn.model_selection import train_test_split , GridSearchCV\n",
    "from sklearn.linear_model import Lasso, Ridge , LinearRegression\n",
    "from sklearn.svm import SVR\n",
    "from sklearn.ensemble import RandomForestRegressor, GradientBoostingRegressor , VotingRegressor\n",
    "from sklearn.metrics import mean_squared_error, r2_score\n",
    "from sklearn.preprocessing import StandardScaler\n",
    "from sklearn.feature_selection import SelectFromModel\n",
    "from sklearn.model_selection import cross_val_score, GridSearchCV"
   ]
  },
  {
   "cell_type": "markdown",
   "metadata": {},
   "source": [
    "##### 1.1 Load and prepare the dataset"
   ]
  },
  {
   "cell_type": "code",
   "execution_count": 3,
   "metadata": {},
   "outputs": [],
   "source": [
    "data = pd.read_csv(\"data.csv\")"
   ]
  },
  {
   "cell_type": "code",
   "execution_count": 4,
   "metadata": {},
   "outputs": [],
   "source": [
    "# Replace infinite values with a large number (e.g., 1e10)\n",
    "data['AI_Workload_Ratio'].replace([np.inf, -np.inf], 1e10, inplace=True)"
   ]
  },
  {
   "cell_type": "code",
   "execution_count": 5,
   "metadata": {},
   "outputs": [
    {
     "name": "stdout",
     "output_type": "stream",
     "text": [
      "Job titles           0\n",
      "AI Impact            0\n",
      "Tasks                0\n",
      "AI models            0\n",
      "AI_Workload_Ratio    0\n",
      "Domain               0\n",
      "dtype: int64\n"
     ]
    }
   ],
   "source": [
    "missing_values = data.isnull().sum()\n",
    "print(missing_values)"
   ]
  },
  {
   "cell_type": "code",
   "execution_count": 6,
   "metadata": {},
   "outputs": [
    {
     "name": "stdout",
     "output_type": "stream",
     "text": [
      "Job titles             0\n",
      "AI Impact              0\n",
      "Tasks                0.0\n",
      "AI models            0.0\n",
      "AI_Workload_Ratio    0.0\n",
      "Domain                 0\n",
      "dtype: object\n"
     ]
    }
   ],
   "source": [
    "infinite_values = data[data == np.inf].sum()\n",
    "print(infinite_values)"
   ]
  },
  {
   "cell_type": "code",
   "execution_count": 7,
   "metadata": {},
   "outputs": [],
   "source": [
    "data['AI Impact'] = data['AI Impact'].str.rstrip('%').astype(float)/100"
   ]
  },
  {
   "cell_type": "markdown",
   "metadata": {},
   "source": [
    "##### 1.2 Handle missing values (if any)"
   ]
  },
  {
   "cell_type": "code",
   "execution_count": 8,
   "metadata": {},
   "outputs": [
    {
     "data": {
      "text/plain": [
       "(Job titles           0\n",
       " AI Impact            0\n",
       " Tasks                0\n",
       " AI models            0\n",
       " AI_Workload_Ratio    0\n",
       " Domain               0\n",
       " dtype: int64,\n",
       " 0)"
      ]
     },
     "execution_count": 8,
     "metadata": {},
     "output_type": "execute_result"
    }
   ],
   "source": [
    "missing_values = data.isnull().sum()\n",
    "\n",
    "inf_values = (data['AI_Workload_Ratio'] == float('inf')).sum()\n",
    "\n",
    "missing_values, inf_values"
   ]
  },
  {
   "cell_type": "markdown",
   "metadata": {},
   "source": [
    "##### 1.3 Encode categorical variables\n"
   ]
  },
  {
   "cell_type": "code",
   "execution_count": 9,
   "metadata": {},
   "outputs": [],
   "source": [
    "data = pd.get_dummies(data, columns=[\"Job titles\", \"Domain\"], drop_first=True)"
   ]
  },
  {
   "cell_type": "code",
   "execution_count": 10,
   "metadata": {},
   "outputs": [
    {
     "data": {
      "text/plain": [
       "Index(['AI Impact', 'Tasks', 'AI models', 'AI_Workload_Ratio',\n",
       "       'Job titles_3D Animator', 'Job titles_3D Artist',\n",
       "       'Job titles_3D Designer', 'Job titles_3D Modeler',\n",
       "       'Job titles_911 Dispatcher', 'Job titles_911 Operator',\n",
       "       ...\n",
       "       'Job titles_Zoologist', 'Domain_Communication & PR',\n",
       "       'Domain_Construction', 'Domain_Data & IT', 'Domain_Hospitality',\n",
       "       'Domain_Law Enforcement', 'Domain_Leadership & Strategy',\n",
       "       'Domain_Medical & Healthcare', 'Domain_Sales & Marketing',\n",
       "       'Domain_Supply Chain & Logistics'],\n",
       "      dtype='object', length=4718)"
      ]
     },
     "execution_count": 10,
     "metadata": {},
     "output_type": "execute_result"
    }
   ],
   "source": [
    "data.columns"
   ]
  },
  {
   "cell_type": "markdown",
   "metadata": {},
   "source": [
    "##### 1.4 Split the data into features (X) and target (y)"
   ]
  },
  {
   "cell_type": "code",
   "execution_count": 11,
   "metadata": {},
   "outputs": [],
   "source": [
    "X = data.drop(columns=[\"AI Impact\"])\n",
    "y = data[\"AI Impact\"]"
   ]
  },
  {
   "cell_type": "markdown",
   "metadata": {},
   "source": [
    "##### 1.5 Split the data into training and testing sets"
   ]
  },
  {
   "cell_type": "code",
   "execution_count": 12,
   "metadata": {},
   "outputs": [],
   "source": [
    "X_train, X_test, y_train, y_test = train_test_split(X, y, test_size=0.2, random_state=42)"
   ]
  },
  {
   "cell_type": "markdown",
   "metadata": {},
   "source": [
    "##### 1.6 Choose a regression model and train it"
   ]
  },
  {
   "cell_type": "code",
   "execution_count": 13,
   "metadata": {},
   "outputs": [],
   "source": [
    "models = [\n",
    "    (\"Linear Regression\", LinearRegression()),\n",
    "    (\"Random Forest Regression\", RandomForestRegressor()),\n",
    "    (\"Gradient Boosting Regression\", GradientBoostingRegressor()),\n",
    "    (\"Lasso Regression\", Lasso(alpha=0.01)),  \n",
    "    (\"Ridge Regression\", Ridge(alpha=0.01)), \n",
    "]"
   ]
  },
  {
   "cell_type": "markdown",
   "metadata": {},
   "source": [
    "##### 1.7 Training and evaluating multiple models "
   ]
  },
  {
   "cell_type": "code",
   "execution_count": 14,
   "metadata": {},
   "outputs": [
    {
     "name": "stdout",
     "output_type": "stream",
     "text": [
      "Model: Linear Regression\n",
      "MSE: 0.039977242787945205\n",
      "RMSE: 0.1999430988755181\n",
      "R-squared: -0.10282736474255905\n",
      "--------\n",
      "Model: Random Forest Regression\n",
      "MSE: 0.02088878767515924\n",
      "RMSE: 0.14452953910934346\n",
      "R-squared: 0.42375398957205623\n",
      "--------\n",
      "Model: Gradient Boosting Regression\n",
      "MSE: 0.021083420924632452\n",
      "RMSE: 0.145201311718016\n",
      "R-squared: 0.4183847630161781\n",
      "--------\n",
      "Model: Lasso Regression\n",
      "MSE: 0.029024849945861398\n",
      "RMSE: 0.17036680998909792\n",
      "R-squared: 0.1993094934627484\n",
      "--------\n"
     ]
    },
    {
     "name": "stderr",
     "output_type": "stream",
     "text": [
      "c:\\Users\\Anubhav Chachra\\AppData\\Local\\Programs\\Python\\Python310\\lib\\site-packages\\sklearn\\linear_model\\_ridge.py:196: UserWarning: Singular matrix in solving dual problem. Using least-squares solution instead.\n",
      "  warnings.warn(\n"
     ]
    },
    {
     "name": "stdout",
     "output_type": "stream",
     "text": [
      "Model: Ridge Regression\n",
      "MSE: 0.029027314147090415\n",
      "RMSE: 0.17037404188165053\n",
      "R-squared: 0.1992415150740935\n",
      "--------\n"
     ]
    }
   ],
   "source": [
    "for name, model in models:\n",
    "    model.fit(X_train, y_train)\n",
    "    y_pred = model.predict(X_test)\n",
    "    mse = mean_squared_error(y_test, y_pred)\n",
    "    rmse = np.sqrt(mse)\n",
    "    r_squared = r2_score(y_test, y_pred)\n",
    "    \n",
    "    print(f\"Model: {name}\")\n",
    "    print(f'MSE: {mse}')\n",
    "    print(f'RMSE: {rmse}')\n",
    "    print(f'R-squared: {r_squared}')\n",
    "    print(\"--------\")"
   ]
  },
  {
   "cell_type": "code",
   "execution_count": 15,
   "metadata": {},
   "outputs": [
    {
     "name": "stdout",
     "output_type": "stream",
     "text": [
      "Model: Linear Regression\n",
      "RMSE on CV: 0.18426652744271962\n",
      "--------\n",
      "Model: Random Forest Regression\n",
      "RMSE on CV: 0.14180028160860778\n",
      "--------\n",
      "Model: Gradient Boosting Regression\n",
      "RMSE on CV: 0.1401888048746886\n",
      "--------\n",
      "Model: Lasso Regression\n",
      "RMSE on CV: 0.16328585865295198\n",
      "--------\n"
     ]
    },
    {
     "name": "stderr",
     "output_type": "stream",
     "text": [
      "c:\\Users\\Anubhav Chachra\\AppData\\Local\\Programs\\Python\\Python310\\lib\\site-packages\\sklearn\\linear_model\\_ridge.py:196: UserWarning: Singular matrix in solving dual problem. Using least-squares solution instead.\n",
      "  warnings.warn(\n",
      "c:\\Users\\Anubhav Chachra\\AppData\\Local\\Programs\\Python\\Python310\\lib\\site-packages\\sklearn\\linear_model\\_ridge.py:196: UserWarning: Singular matrix in solving dual problem. Using least-squares solution instead.\n",
      "  warnings.warn(\n",
      "c:\\Users\\Anubhav Chachra\\AppData\\Local\\Programs\\Python\\Python310\\lib\\site-packages\\sklearn\\linear_model\\_ridge.py:196: UserWarning: Singular matrix in solving dual problem. Using least-squares solution instead.\n",
      "  warnings.warn(\n",
      "c:\\Users\\Anubhav Chachra\\AppData\\Local\\Programs\\Python\\Python310\\lib\\site-packages\\sklearn\\linear_model\\_ridge.py:196: UserWarning: Singular matrix in solving dual problem. Using least-squares solution instead.\n",
      "  warnings.warn(\n",
      "c:\\Users\\Anubhav Chachra\\AppData\\Local\\Programs\\Python\\Python310\\lib\\site-packages\\sklearn\\linear_model\\_ridge.py:196: UserWarning: Singular matrix in solving dual problem. Using least-squares solution instead.\n",
      "  warnings.warn(\n",
      "c:\\Users\\Anubhav Chachra\\AppData\\Local\\Programs\\Python\\Python310\\lib\\site-packages\\sklearn\\linear_model\\_ridge.py:196: UserWarning: Singular matrix in solving dual problem. Using least-squares solution instead.\n",
      "  warnings.warn(\n"
     ]
    },
    {
     "name": "stdout",
     "output_type": "stream",
     "text": [
      "Model: Ridge Regression\n",
      "RMSE on CV: 0.16346154446720634\n",
      "--------\n",
      "The best model is GradientBoostingRegressor() with RMSE: 0.1401888048746886\n"
     ]
    }
   ],
   "source": [
    "best_model = None\n",
    "best_rmse = float('inf')\n",
    "\n",
    "for name, model in models:\n",
    "    if name == \"Random Forest Regression\":\n",
    "        # Feature Scaling (for Random Forest only)\n",
    "        scaler = StandardScaler()\n",
    "        X_train_scaled = scaler.fit_transform(X_train)\n",
    "        X_test_scaled = scaler.transform(X_test)\n",
    "        \n",
    "        # Feature Selection (for Random Forest only)\n",
    "        select = SelectFromModel(RandomForestRegressor(n_estimators=100))\n",
    "        select.fit(X_train_scaled, y_train)\n",
    "        X_train_selected = select.transform(X_train_scaled)\n",
    "        X_test_selected = select.transform(X_test_scaled)\n",
    "        \n",
    "        # Hyperparameter tuning for Random Forest\n",
    "        param_grid = {'n_estimators': [50, 100, 200]}\n",
    "        grid_search = GridSearchCV(model, param_grid, cv=5, scoring='neg_mean_squared_error')\n",
    "        grid_search.fit(X_train_selected, y_train)\n",
    "        best_model = grid_search.best_estimator_\n",
    "        \n",
    "    else:\n",
    "        # For other models\n",
    "        model.fit(X_train, y_train)\n",
    "        \n",
    "    # Cross-validation for model selection\n",
    "    cv_scores = cross_val_score(model, X_train, y_train, cv=5, scoring='neg_mean_squared_error')\n",
    "    mse_cv = -np.mean(cv_scores)\n",
    "    rmse_cv = np.sqrt(mse_cv)\n",
    "    \n",
    "    print(f\"Model: {name}\")\n",
    "    print(f'RMSE on CV: {rmse_cv}')\n",
    "    print(\"--------\")\n",
    "    \n",
    "    if rmse_cv < best_rmse:\n",
    "        best_rmse = rmse_cv\n",
    "        best_model = model\n",
    "\n",
    "# Step 6: Model Comparison\n",
    "print(f\"The best model is {best_model} with RMSE: {best_rmse}\")"
   ]
  }
 ],
 "metadata": {
  "kernelspec": {
   "display_name": "Python 3 (ipykernel)",
   "language": "python",
   "name": "python3"
  },
  "language_info": {
   "codemirror_mode": {
    "name": "ipython",
    "version": 3
   },
   "file_extension": ".py",
   "mimetype": "text/x-python",
   "name": "python",
   "nbconvert_exporter": "python",
   "pygments_lexer": "ipython3",
   "version": "3.10.2"
  }
 },
 "nbformat": 4,
 "nbformat_minor": 2
}
